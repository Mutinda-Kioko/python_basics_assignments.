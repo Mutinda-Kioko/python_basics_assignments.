{
  "nbformat": 4,
  "nbformat_minor": 0,
  "metadata": {
    "colab": {
      "provenance": [],
      "authorship_tag": "ABX9TyNLfB5IXSv0RX+gQxJIHSAS",
      "include_colab_link": true
    },
    "kernelspec": {
      "name": "python3",
      "display_name": "Python 3"
    },
    "language_info": {
      "name": "python"
    }
  },
  "cells": [
    {
      "cell_type": "markdown",
      "metadata": {
        "id": "view-in-github",
        "colab_type": "text"
      },
      "source": [
        "<a href=\"https://colab.research.google.com/github/Mutinda-Kioko/python_basics_assignments./blob/main/python_basics_assignments.ipynb\" target=\"_parent\"><img src=\"https://colab.research.google.com/assets/colab-badge.svg\" alt=\"Open In Colab\"/></a>"
      ]
    },
    {
      "cell_type": "markdown",
      "source": [
        "**1. Variables in Python**\n",
        "  \n",
        "\n",
        "---\n",
        "  Exercises\n",
        "\n",
        "---\n",
        "\n",
        "\n",
        "1.   Declare a variable named age and assign your age to it.\n",
        "\n",
        "\n",
        "\n",
        "\n",
        "\n",
        "\n",
        "\n",
        "\n",
        "\n",
        "\n",
        "\n"
      ],
      "metadata": {
        "id": "svJEwSmRkHZt"
      }
    },
    {
      "cell_type": "code",
      "execution_count": 3,
      "metadata": {
        "id": "Zw-niMgJj_bd"
      },
      "outputs": [],
      "source": [
        "age = 25\n"
      ]
    },
    {
      "cell_type": "markdown",
      "source": [
        "2.   Create two variables x = 10 and y = 5. Print their sum.\n",
        "\n"
      ],
      "metadata": {
        "id": "GpoeVm_qk7II"
      }
    },
    {
      "cell_type": "code",
      "source": [
        "x=10\n",
        "y=5\n",
        "\n",
        "print(\"The sum is:\", x + y)"
      ],
      "metadata": {
        "colab": {
          "base_uri": "https://localhost:8080/"
        },
        "id": "gHKv9-_7lCDE",
        "outputId": "23a4e031-21b3-412f-c4c2-e4bab87287db"
      },
      "execution_count": 1,
      "outputs": [
        {
          "output_type": "stream",
          "name": "stdout",
          "text": [
            "The sum is: 15\n"
          ]
        }
      ]
    },
    {
      "cell_type": "markdown",
      "source": [
        "3.   Try using an invalid variable name like 2ndName and observe the error.\n"
      ],
      "metadata": {
        "id": "Bgwy2GRzlRCA"
      }
    },
    {
      "cell_type": "code",
      "source": [
        "print(\"invalid variable\", 2ndName)"
      ],
      "metadata": {
        "colab": {
          "base_uri": "https://localhost:8080/",
          "height": 108
        },
        "id": "xv8QIGJ4lWEJ",
        "outputId": "1109de7f-a21f-48cf-dc8d-9daa6ff97f5f"
      },
      "execution_count": 2,
      "outputs": [
        {
          "output_type": "error",
          "ename": "SyntaxError",
          "evalue": "invalid decimal literal (ipython-input-1731477885.py, line 1)",
          "traceback": [
            "\u001b[0;36m  File \u001b[0;32m\"/tmp/ipython-input-1731477885.py\"\u001b[0;36m, line \u001b[0;32m1\u001b[0m\n\u001b[0;31m    print(\"invalid variable\", 2ndName)\u001b[0m\n\u001b[0m                              ^\u001b[0m\n\u001b[0;31mSyntaxError\u001b[0m\u001b[0;31m:\u001b[0m invalid decimal literal\n"
          ]
        }
      ]
    },
    {
      "cell_type": "markdown",
      "source": [
        "4.   Assign a string to a variable and print it."
      ],
      "metadata": {
        "id": "90TOz1zQlppA"
      }
    },
    {
      "cell_type": "code",
      "source": [
        "ndName = \"Kioko\"\n",
        "print(ndName)\n",
        "\n",
        "#in python , variable names cannot start with a number"
      ],
      "metadata": {
        "colab": {
          "base_uri": "https://localhost:8080/"
        },
        "id": "IyK3hx3slqtP",
        "outputId": "540daa07-6477-4127-968b-b63d7c812268"
      },
      "execution_count": 6,
      "outputs": [
        {
          "output_type": "stream",
          "name": "stdout",
          "text": [
            "Kioko\n"
          ]
        }
      ]
    },
    {
      "cell_type": "markdown",
      "source": [
        "**Challenge**\n",
        "\n",
        "---\n",
        "\n",
        "\n",
        "Write a program that asks the user to input their name and age, and then prints a greeting."
      ],
      "metadata": {
        "id": "c2vGZuWamHsH"
      }
    },
    {
      "cell_type": "code",
      "source": [
        "name = input(\"Enter your name: \")\n",
        "age = input(\"Enter your age: \")\n",
        "\n",
        "# Print a greeting\n",
        "print(\"Hello\", name + \"! You are\", age, \"years old.\")"
      ],
      "metadata": {
        "colab": {
          "base_uri": "https://localhost:8080/"
        },
        "id": "MYNIXCXPmXZm",
        "outputId": "973d188d-7880-48a6-c3fb-73ec13ca7d6c"
      },
      "execution_count": 7,
      "outputs": [
        {
          "output_type": "stream",
          "name": "stdout",
          "text": [
            "Enter your name: Kioko\n",
            "Enter your age: 20\n",
            "Hello Kioko! You are 20 years old.\n"
          ]
        }
      ]
    },
    {
      "cell_type": "markdown",
      "source": [
        "**2. Data Types**\n",
        "\n",
        "---\n",
        "Exercises\n",
        "\n",
        "\n",
        "---\n",
        "\n",
        "\n",
        "\n",
        "1.   Print the type of 42, 3.14, and 'hello'.\n",
        "\n",
        "\n",
        "\n"
      ],
      "metadata": {
        "id": "JsI4LI1Nmhfi"
      }
    },
    {
      "cell_type": "code",
      "source": [
        "print(type(42))\n",
        "print(type(3.14))\n",
        "print(type('hello'))"
      ],
      "metadata": {
        "colab": {
          "base_uri": "https://localhost:8080/"
        },
        "id": "UiX-Mpw-m8Bl",
        "outputId": "be4a0caa-8395-4849-a2f7-10b1339d33ee"
      },
      "execution_count": 8,
      "outputs": [
        {
          "output_type": "stream",
          "name": "stdout",
          "text": [
            "<class 'int'>\n",
            "<class 'float'>\n",
            "<class 'str'>\n"
          ]
        }
      ]
    },
    {
      "cell_type": "markdown",
      "source": [
        "2.Convert a string '100' to an integer."
      ],
      "metadata": {
        "id": "DgfNdsQMnC6d"
      }
    },
    {
      "cell_type": "code",
      "source": [
        "s = '100'\n",
        "print(\"before conversion\")\n",
        "print(s)\n",
        "print(type(s))\n",
        "\n",
        "num = int(s)\n",
        "print(\"after conversion\")\n",
        "print(num)\n",
        "print(type(num))"
      ],
      "metadata": {
        "colab": {
          "base_uri": "https://localhost:8080/"
        },
        "id": "zZDR9Sy0nHmO",
        "outputId": "627c99f1-2ddd-4129-90c2-275774707850"
      },
      "execution_count": 10,
      "outputs": [
        {
          "output_type": "stream",
          "name": "stdout",
          "text": [
            "before conversion\n",
            "100\n",
            "<class 'str'>\n",
            "after conversion\n",
            "100\n",
            "<class 'int'>\n"
          ]
        }
      ]
    },
    {
      "cell_type": "markdown",
      "source": [
        "3.Add an integer and a float together. What is the result?"
      ],
      "metadata": {
        "id": "a93_eqx4nlS-"
      }
    },
    {
      "cell_type": "code",
      "source": [
        "x = 10\n",
        "y = 3.5\n",
        "\n",
        "result = x + y\n",
        "print(result)\n",
        "#the result is a float\n",
        "print(type(result))"
      ],
      "metadata": {
        "colab": {
          "base_uri": "https://localhost:8080/"
        },
        "id": "YAdvePDFnpOy",
        "outputId": "cfd1d8fc-5787-4b99-b8ec-55e438e721d9"
      },
      "execution_count": 11,
      "outputs": [
        {
          "output_type": "stream",
          "name": "stdout",
          "text": [
            "13.5\n",
            "<class 'float'>\n"
          ]
        }
      ]
    },
    {
      "cell_type": "markdown",
      "source": [
        "4.What happens when you try to multiply a string by a number?"
      ],
      "metadata": {
        "id": "H61SdeZwn37O"
      }
    },
    {
      "cell_type": "code",
      "source": [
        "text = \"Hi \"\n",
        "print(text * 3)"
      ],
      "metadata": {
        "colab": {
          "base_uri": "https://localhost:8080/"
        },
        "id": "3AWVtGWWn_05",
        "outputId": "046ce0ff-0326-4276-dace-9b7be22a9eb2"
      },
      "execution_count": 12,
      "outputs": [
        {
          "output_type": "stream",
          "name": "stdout",
          "text": [
            "Hi Hi Hi \n"
          ]
        }
      ]
    },
    {
      "cell_type": "markdown",
      "source": [
        "As above, in python, multiplying a string by a number repeats the string that many times as the number."
      ],
      "metadata": {
        "id": "NgTJ3vIgoJrH"
      }
    },
    {
      "cell_type": "markdown",
      "source": [
        "**Challenge**\n",
        "\n",
        "\n",
        "---\n",
        "\n",
        "Write a program that:\n",
        "\n",
        "*  Asks the user to enter two numbers (as strings)\n",
        "*  Converts them to integers or floats\n",
        "*  Prints their sum and type\n",
        "\n",
        "\n",
        "\n",
        "\n",
        "\n",
        "\n",
        "\n"
      ],
      "metadata": {
        "id": "2hLUITd4oT2a"
      }
    },
    {
      "cell_type": "code",
      "source": [
        "num1 = input(\"Enter the first number: \")\n",
        "num2 = input(\"Enter the second number: \")\n",
        "\n",
        "num1 = float(num1)\n",
        "num2 = float(num2)\n",
        "\n",
        "result = num1 + num2\n",
        "\n",
        "print(\"The sum is:\", result)\n",
        "print(\"The type of the result is:\", type(result))"
      ],
      "metadata": {
        "colab": {
          "base_uri": "https://localhost:8080/"
        },
        "id": "woXbfC1opDT7",
        "outputId": "a7e5326b-68ed-4a19-fc20-c15c0bb5b8e0"
      },
      "execution_count": 13,
      "outputs": [
        {
          "output_type": "stream",
          "name": "stdout",
          "text": [
            "Enter the first number: 3\n",
            "Enter the second number: 5.6\n",
            "The sum is: 8.6\n",
            "The type of the result is: <class 'float'>\n"
          ]
        }
      ]
    },
    {
      "cell_type": "markdown",
      "source": [
        "**3.Data Structures**\n",
        "\n",
        "\n",
        "---\n",
        "Exercises\n",
        "\n",
        "\n",
        "---\n",
        "\n",
        "1.Create a list of 5 fruits and print the third fruit.\n"
      ],
      "metadata": {
        "id": "fvjyI1h4pg3U"
      }
    },
    {
      "cell_type": "code",
      "source": [
        "fruits = [\"Grapes\", \"Banana\", \"Mango\", \"Orange\", \"Pears\"]\n",
        "\n",
        "print(\"The third fruit is:\", fruits[2])"
      ],
      "metadata": {
        "colab": {
          "base_uri": "https://localhost:8080/"
        },
        "id": "L4-nHuxqpxzx",
        "outputId": "dbef7bbc-9138-43f2-98a1-284b17c1752c"
      },
      "execution_count": 14,
      "outputs": [
        {
          "output_type": "stream",
          "name": "stdout",
          "text": [
            "The third fruit is: Mango\n"
          ]
        }
      ]
    },
    {
      "cell_type": "markdown",
      "source": [
        "2.Create a dictionary with keys: name, age. Print the value of age."
      ],
      "metadata": {
        "id": "cqPte7mAqAPJ"
      }
    },
    {
      "cell_type": "code",
      "source": [
        "person = {\n",
        "    \"name\": \"Kioko\",\n",
        "    \"age\": 25\n",
        "}\n",
        "\n",
        "print(\"Age:\", person[\"age\"])"
      ],
      "metadata": {
        "colab": {
          "base_uri": "https://localhost:8080/"
        },
        "id": "q9MDoe7-qD5h",
        "outputId": "b4f4f96c-0b60-4f5e-b143-68cc9bee16b5"
      },
      "execution_count": 15,
      "outputs": [
        {
          "output_type": "stream",
          "name": "stdout",
          "text": [
            "Age: 25\n"
          ]
        }
      ]
    },
    {
      "cell_type": "markdown",
      "source": [
        "3.Define a tuple with three numbers. Try modifying it. What happens?"
      ],
      "metadata": {
        "id": "WP4SCoAbqOKb"
      }
    },
    {
      "cell_type": "code",
      "source": [
        "numbers = (10, 20, 30)\n",
        "\n",
        "print(\"Original tuple:\", numbers)\n",
        "\n",
        "\n",
        "numbers[0] = 99"
      ],
      "metadata": {
        "colab": {
          "base_uri": "https://localhost:8080/",
          "height": 198
        },
        "id": "lL0d-hiyqRmE",
        "outputId": "f1c3a575-c27a-483a-be3b-072c89b25739"
      },
      "execution_count": 16,
      "outputs": [
        {
          "output_type": "stream",
          "name": "stdout",
          "text": [
            "Original tuple: (10, 20, 30)\n"
          ]
        },
        {
          "output_type": "error",
          "ename": "TypeError",
          "evalue": "'tuple' object does not support item assignment",
          "traceback": [
            "\u001b[0;31m---------------------------------------------------------------------------\u001b[0m",
            "\u001b[0;31mTypeError\u001b[0m                                 Traceback (most recent call last)",
            "\u001b[0;32m/tmp/ipython-input-2004795553.py\u001b[0m in \u001b[0;36m<cell line: 0>\u001b[0;34m()\u001b[0m\n\u001b[1;32m      4\u001b[0m \u001b[0;34m\u001b[0m\u001b[0m\n\u001b[1;32m      5\u001b[0m \u001b[0;34m\u001b[0m\u001b[0m\n\u001b[0;32m----> 6\u001b[0;31m \u001b[0mnumbers\u001b[0m\u001b[0;34m[\u001b[0m\u001b[0;36m0\u001b[0m\u001b[0;34m]\u001b[0m \u001b[0;34m=\u001b[0m \u001b[0;36m99\u001b[0m\u001b[0;34m\u001b[0m\u001b[0;34m\u001b[0m\u001b[0m\n\u001b[0m",
            "\u001b[0;31mTypeError\u001b[0m: 'tuple' object does not support item assignment"
          ]
        }
      ]
    },
    {
      "cell_type": "markdown",
      "source": [
        "The code above will raise an error:\"TypeError: 'tuple' object does not support item assignment\""
      ],
      "metadata": {
        "id": "k7k5_2dmqfsJ"
      }
    },
    {
      "cell_type": "markdown",
      "source": [
        "4. Create a set from a list with duplicate values."
      ],
      "metadata": {
        "id": "9UacsYawqnF_"
      }
    },
    {
      "cell_type": "code",
      "source": [
        "numbers = [1, 2, 2, 3, 4, 4, 5]\n",
        "\n",
        "unique_numbers = set(numbers)\n",
        "\n",
        "print(\"Original list:\", numbers)\n",
        "print(\"Set with unique values:\", unique_numbers)"
      ],
      "metadata": {
        "colab": {
          "base_uri": "https://localhost:8080/"
        },
        "id": "MCpNeGW9qvDm",
        "outputId": "39691fd2-ed9d-4d9e-b189-3e5b3a2ce610"
      },
      "execution_count": 17,
      "outputs": [
        {
          "output_type": "stream",
          "name": "stdout",
          "text": [
            "Original list: [1, 2, 2, 3, 4, 4, 5]\n",
            "Set with unique values: {1, 2, 3, 4, 5}\n"
          ]
        }
      ]
    },
    {
      "cell_type": "markdown",
      "source": [
        "**Challenge**\n",
        "\n",
        "---\n",
        "Create a program that:\n",
        "\n",
        "\n",
        "\n",
        "*   Takes 5 user inputs and stores them in a list\n",
        "*   Converts the list into a set and prints the unique values\n",
        "\n",
        "\n",
        "\n",
        "\n"
      ],
      "metadata": {
        "id": "ty12MX4OqzZV"
      }
    },
    {
      "cell_type": "code",
      "source": [
        "items = []\n",
        "for i in range(5):\n",
        "    value = input(f\"Enter item {i+1}: \")\n",
        "    items.append(value)\n",
        "\n",
        "unique_items = set(items)\n",
        "\n",
        "print(\"Original list:\", items)\n",
        "print(\"Unique values (set):\", unique_items)"
      ],
      "metadata": {
        "colab": {
          "base_uri": "https://localhost:8080/"
        },
        "id": "LZ16MTTWrLsC",
        "outputId": "d937d5a7-f20c-4e07-ed9d-d1e43d64ba16"
      },
      "execution_count": 18,
      "outputs": [
        {
          "output_type": "stream",
          "name": "stdout",
          "text": [
            "Enter item 1: 2\n",
            "Enter item 2: \n",
            "Enter item 3: 46\n",
            "Enter item 4: 2\n",
            "Enter item 5: 7\n",
            "Original list: ['2', '', '46', '2', '7']\n",
            "Unique values (set): {'', '46', '2', '7'}\n"
          ]
        }
      ]
    },
    {
      "cell_type": "markdown",
      "source": [
        "**4.Loops**\n",
        "\n",
        "\n",
        "---\n",
        "Exercises\n",
        "\n",
        "\n",
        "---\n",
        "\n",
        "1. Use a for loop to print numbers from 1 to 10.\n"
      ],
      "metadata": {
        "id": "jY61DuqsrVuo"
      }
    },
    {
      "cell_type": "code",
      "source": [
        "for i in range(1, 11):\n",
        "    print(i)"
      ],
      "metadata": {
        "colab": {
          "base_uri": "https://localhost:8080/"
        },
        "id": "h7CkdRS7tmaY",
        "outputId": "5796c74d-c9cf-4163-aeec-40380f7a86bb"
      },
      "execution_count": 19,
      "outputs": [
        {
          "output_type": "stream",
          "name": "stdout",
          "text": [
            "1\n",
            "2\n",
            "3\n",
            "4\n",
            "5\n",
            "6\n",
            "7\n",
            "8\n",
            "9\n",
            "10\n"
          ]
        }
      ]
    },
    {
      "cell_type": "markdown",
      "source": [
        "2. Use a while loop to print numbers until the user enters stop."
      ],
      "metadata": {
        "id": "Ux3FkUpLtz8k"
      }
    },
    {
      "cell_type": "code",
      "source": [
        "while True:\n",
        "    user_input = input(\"Enter something type 'stop' to quit: \")\n",
        "\n",
        "    if user_input.lower() == \"stop\":\n",
        "        print(\"Loop ended.\")\n",
        "        break\n",
        "    else:\n",
        "        print(\"You entered:\", user_input)"
      ],
      "metadata": {
        "colab": {
          "base_uri": "https://localhost:8080/"
        },
        "id": "2ZUaN-tIt1Wb",
        "outputId": "c11a8efe-3719-496b-b50a-671e7fe6116c"
      },
      "execution_count": 20,
      "outputs": [
        {
          "output_type": "stream",
          "name": "stdout",
          "text": [
            "Enter something (type 'stop' to quit): 1\n",
            "You entered: 1\n",
            "Enter something (type 'stop' to quit): 3\n",
            "You entered: 3\n",
            "Enter something (type 'stop' to quit): re\n",
            "You entered: re\n",
            "Enter something (type 'stop' to quit): stop\n",
            "Loop ended.\n"
          ]
        }
      ]
    },
    {
      "cell_type": "markdown",
      "source": [
        "3. Write a loop that prints even numbers from 1 to 20."
      ],
      "metadata": {
        "id": "Ike1uvq-uQ0I"
      }
    },
    {
      "cell_type": "code",
      "source": [
        "for i in range(1, 21):\n",
        "    if i % 2 == 0:\n",
        "        print(i)"
      ],
      "metadata": {
        "colab": {
          "base_uri": "https://localhost:8080/"
        },
        "id": "evCUKBVwzHFH",
        "outputId": "f9556702-f2c1-462e-d0aa-66f81c85b590"
      },
      "execution_count": 21,
      "outputs": [
        {
          "output_type": "stream",
          "name": "stdout",
          "text": [
            "2\n",
            "4\n",
            "6\n",
            "8\n",
            "10\n",
            "12\n",
            "14\n",
            "16\n",
            "18\n",
            "20\n"
          ]
        }
      ]
    },
    {
      "cell_type": "markdown",
      "source": [
        "4. Explain what break and continue do in your own words.\n",
        "\n",
        "      A **break** statement immediately ends the loop, no matter if the loop condition is still true or not, and the program execution comtinues after the loop.\n",
        "\n",
        "      A **continue** statement skips the rest of the code inside the loop for the current iteration but the loop still goes on to the next iteration.\n",
        "\n"
      ],
      "metadata": {
        "id": "Em9OsMOQzLG6"
      }
    },
    {
      "cell_type": "markdown",
      "source": [
        "**Challenge**\n",
        "\n",
        "\n",
        "---\n",
        "\n",
        "\n",
        "Write a guessing game that asks the user to guess a secret number between 1 and 10.\n",
        "\n",
        "Give feedback (too high / too low)\n",
        "Use a while loop"
      ],
      "metadata": {
        "id": "7CqaX90g0lcI"
      }
    },
    {
      "cell_type": "code",
      "source": [
        "import random\n",
        "\n",
        "secret_number = random.randint(1, 10)\n",
        "\n",
        "print(\"🎲 Guess the secret number between 1 and 10!\")\n",
        "\n",
        "while True:\n",
        "    guess = input(\"Enter your guess: \")\n",
        "\n",
        "    if not guess.isdigit():\n",
        "        print(\"Please enter a number.\")\n",
        "        continue\n",
        "\n",
        "    guess = int(guess)\n",
        "\n",
        "    if guess < secret_number:\n",
        "        print(\"Too low! Try again.\")\n",
        "    elif guess > secret_number:\n",
        "        print(\"Too high! Try again.\")\n",
        "    else:\n",
        "        print(\"🎉 Correct! The secret number was\", secret_number)\n",
        "        break\n"
      ],
      "metadata": {
        "colab": {
          "base_uri": "https://localhost:8080/"
        },
        "id": "fNBZIvAn3Vx9",
        "outputId": "8f5c2edf-e94e-4510-ff1b-637af9a22f40"
      },
      "execution_count": 22,
      "outputs": [
        {
          "output_type": "stream",
          "name": "stdout",
          "text": [
            "🎲 Guess the secret number between 1 and 10!\n",
            "Enter your guess: 3\n",
            "Too low! Try again.\n",
            "Enter your guess: 7\n",
            "Too high! Try again.\n",
            "Enter your guess: 5\n",
            "Too high! Try again.\n",
            "Enter your guess: 6\n",
            "Too high! Try again.\n",
            "Enter your guess: 4\n",
            "🎉 Correct! The secret number was 4\n"
          ]
        }
      ]
    },
    {
      "cell_type": "markdown",
      "source": [
        "**5:Control Flow**\n",
        "\n",
        "---\n",
        "\n",
        "\n",
        "\n",
        "Exercises\n",
        "\n",
        "---\n",
        "1. Write a program that checks if a number is positive, negative, or zero.\n"
      ],
      "metadata": {
        "id": "iP_WHQRj3iX1"
      }
    },
    {
      "cell_type": "code",
      "source": [
        "num = int(input(\"Enter a number: \"))\n",
        "\n",
        "if num > 0:\n",
        "    print(\"The number is positive.\")\n",
        "elif num < 0:\n",
        "    print(\"The number is negative.\")\n",
        "else:\n",
        "    print(\"The number is zero.\")"
      ],
      "metadata": {
        "colab": {
          "base_uri": "https://localhost:8080/"
        },
        "id": "WsqW8Lu833ga",
        "outputId": "298d3260-22d8-4665-83e3-1c11e6258efe"
      },
      "execution_count": 25,
      "outputs": [
        {
          "output_type": "stream",
          "name": "stdout",
          "text": [
            "Enter a number: 0\n",
            "The number is zero.\n"
          ]
        }
      ]
    },
    {
      "cell_type": "markdown",
      "source": [
        "2. Create a program that checks if someone is eligible to vote."
      ],
      "metadata": {
        "id": "h8aQAByf4B-f"
      }
    },
    {
      "cell_type": "code",
      "source": [
        "age = input(\"Enter your age: \")\n",
        "age = int(age)\n",
        "\n",
        "if age >= 18:\n",
        "    print(\"You are eligible to vote.\")\n",
        "else:\n",
        "    print(\"You are not eligible to vote.\")"
      ],
      "metadata": {
        "colab": {
          "base_uri": "https://localhost:8080/"
        },
        "id": "v7IApHAv4Hqd",
        "outputId": "dea40a95-15e2-49d7-9531-06a4131d92b3"
      },
      "execution_count": 26,
      "outputs": [
        {
          "output_type": "stream",
          "name": "stdout",
          "text": [
            "Enter your age: 0\n",
            "You are not eligible to vote.\n"
          ]
        }
      ]
    },
    {
      "cell_type": "markdown",
      "source": [
        "3. Write a program that takes 3 numbers and prints the largest one."
      ],
      "metadata": {
        "id": "fW8GDTGc4Rrr"
      }
    },
    {
      "cell_type": "code",
      "source": [
        "num1 = int(input(\"Enter first number: \"))\n",
        "num2 = int(input(\"Enter second number: \"))\n",
        "num3 = int(input(\"Enter third number: \"))\n",
        "\n",
        "if num1 >= num2 and num1 >= num3:\n",
        "    largest = num1\n",
        "elif num2 >= num1 and num2 >= num3:\n",
        "    largest = num2\n",
        "else:\n",
        "    largest = num3\n",
        "\n",
        "print(\"The largest number is:\", largest)"
      ],
      "metadata": {
        "colab": {
          "base_uri": "https://localhost:8080/"
        },
        "id": "voGIwHgy4V2U",
        "outputId": "d88942d3-5768-4199-c814-4e542fdad3a6"
      },
      "execution_count": 28,
      "outputs": [
        {
          "output_type": "stream",
          "name": "stdout",
          "text": [
            "Enter first number: 2\n",
            "Enter second number: 4\n",
            "Enter third number: 5\n",
            "The largest number is: 5\n"
          ]
        }
      ]
    },
    {
      "cell_type": "markdown",
      "source": [
        "4. Practice combining and, or, not."
      ],
      "metadata": {
        "id": "B5dysE_n4v_R"
      }
    },
    {
      "cell_type": "markdown",
      "source": [
        "Using and"
      ],
      "metadata": {
        "id": "3WBcbMo55mo_"
      }
    },
    {
      "cell_type": "code",
      "source": [
        "age = 20\n",
        "has_id = True\n",
        "\n",
        "if age >= 18 and has_id:\n",
        "    print(\"You can enter the club.\")\n",
        "else:\n",
        "    print(\"Access denied.\")"
      ],
      "metadata": {
        "colab": {
          "base_uri": "https://localhost:8080/"
        },
        "id": "PhX6Z2Bz5vqj",
        "outputId": "0aff2199-b1cb-4a20-e342-0c0f159f6dda"
      },
      "execution_count": 29,
      "outputs": [
        {
          "output_type": "stream",
          "name": "stdout",
          "text": [
            "You can enter the club.\n"
          ]
        }
      ]
    },
    {
      "cell_type": "markdown",
      "source": [
        "Using or"
      ],
      "metadata": {
        "id": "BMvIS34D50z9"
      }
    },
    {
      "cell_type": "code",
      "source": [
        "day = \"Saturday\"\n",
        "\n",
        "if day == \"Saturday\" or day == \"Sunday\":\n",
        "    print(\"It's the weekend! 🎉\")\n",
        "else:\n",
        "    print(\"It's a weekday.\")"
      ],
      "metadata": {
        "colab": {
          "base_uri": "https://localhost:8080/"
        },
        "id": "UwDBvVBZ53-Z",
        "outputId": "0307642d-2cfd-4db4-f18c-3e9702bb44b4"
      },
      "execution_count": 30,
      "outputs": [
        {
          "output_type": "stream",
          "name": "stdout",
          "text": [
            "It's the weekend! 🎉\n"
          ]
        }
      ]
    },
    {
      "cell_type": "markdown",
      "source": [
        "Using not"
      ],
      "metadata": {
        "id": "M1a4iEBE572_"
      }
    },
    {
      "cell_type": "code",
      "source": [
        "is_raining = False\n",
        "\n",
        "if not is_raining:\n",
        "    print(\"You don't need an umbrella. ☀️\")\n",
        "else:\n",
        "    print(\"Take your umbrella! ☔\")"
      ],
      "metadata": {
        "colab": {
          "base_uri": "https://localhost:8080/"
        },
        "id": "-BwpUkJU5_nx",
        "outputId": "0143c06c-f883-42ef-8d4e-78997956558b"
      },
      "execution_count": 31,
      "outputs": [
        {
          "output_type": "stream",
          "name": "stdout",
          "text": [
            "You don't need an umbrella. ☀️\n"
          ]
        }
      ]
    },
    {
      "cell_type": "markdown",
      "source": [
        "Combining all of them:"
      ],
      "metadata": {
        "id": "tDAR8cV06E5o"
      }
    },
    {
      "cell_type": "code",
      "source": [
        "age = 19\n",
        "has_permission = True\n",
        "\n",
        "if (age >= 18 and has_permission) or (age < 18 and not has_permission):\n",
        "    print(\"Allowed\")\n",
        "else:\n",
        "    print(\"Not allowed\")"
      ],
      "metadata": {
        "colab": {
          "base_uri": "https://localhost:8080/"
        },
        "id": "FteXU9BI6Ls0",
        "outputId": "c8ae3e05-d8a2-4c77-d2d3-977ce4795880"
      },
      "execution_count": 34,
      "outputs": [
        {
          "output_type": "stream",
          "name": "stdout",
          "text": [
            "Allowed\n"
          ]
        }
      ]
    },
    {
      "cell_type": "markdown",
      "source": [
        "**Challenge**\n",
        "\n",
        "---\n",
        "\n",
        "\n",
        "Build a grading system:\n",
        "\n",
        "Input score (0–100)\n",
        "\n",
        "Output grade: A (90+), B (80–89), etc."
      ],
      "metadata": {
        "id": "L-zwhZGW6RUw"
      }
    },
    {
      "cell_type": "code",
      "source": [
        "score = float(input(\"Enter your score (0–100): \"))\n",
        "\n",
        "if score < 0 or score > 100:\n",
        "    print(\"Score must be between 0 and 100.\")\n",
        "else:\n",
        "    if score >= 90:\n",
        "        grade = \"A\"\n",
        "    elif score >= 80:\n",
        "        grade = \"B\"\n",
        "    elif score >= 70:\n",
        "        grade = \"C\"\n",
        "    elif score >= 60:\n",
        "        grade = \"D\"\n",
        "    elif score >= 50:\n",
        "        grade = \"E\"\n",
        "    else:\n",
        "        grade = \"F\"\n",
        "\n",
        "    print(\"✅ Your grade is:\", grade)\n"
      ],
      "metadata": {
        "colab": {
          "base_uri": "https://localhost:8080/"
        },
        "id": "i6zw_hvY6dCu",
        "outputId": "13573396-bb17-4258-bd04-a10e5c48692b"
      },
      "execution_count": 35,
      "outputs": [
        {
          "output_type": "stream",
          "name": "stdout",
          "text": [
            "Enter your score (0–100): 101\n",
            "Score must be between 0 and 100.\n"
          ]
        }
      ]
    },
    {
      "cell_type": "markdown",
      "source": [
        "**6. Functions**\n",
        "\n",
        "---\n",
        "\n",
        "\n",
        "\n",
        "Exercises\n",
        "\n",
        "---\n",
        "\n",
        "1. Write a function greet(name) that prints “Hello, [name]”."
      ],
      "metadata": {
        "id": "orZsVc1368fO"
      }
    },
    {
      "cell_type": "code",
      "source": [
        "def greet(name):\n",
        "    print(f\"Hello, {name}\")"
      ],
      "metadata": {
        "id": "HCj1QdXO7YcA"
      },
      "execution_count": 36,
      "outputs": []
    },
    {
      "cell_type": "code",
      "source": [
        "greet(\"Kioko\")"
      ],
      "metadata": {
        "colab": {
          "base_uri": "https://localhost:8080/"
        },
        "id": "MEkazDIC7aPz",
        "outputId": "03c31ae4-ed81-46b9-b15e-e5030ebe55ee"
      },
      "execution_count": 37,
      "outputs": [
        {
          "output_type": "stream",
          "name": "stdout",
          "text": [
            "Hello, Kioko\n"
          ]
        }
      ]
    },
    {
      "cell_type": "markdown",
      "source": [
        "2. Create a function add(a, b) that returns the sum."
      ],
      "metadata": {
        "id": "sDpv-_Il7eTE"
      }
    },
    {
      "cell_type": "code",
      "source": [
        "def add(a, b):\n",
        "    return a + b"
      ],
      "metadata": {
        "id": "MrraHkjG7m6k"
      },
      "execution_count": 38,
      "outputs": []
    },
    {
      "cell_type": "code",
      "source": [
        "result = add(10, 5)\n",
        "print(\"The sum is:\", result)"
      ],
      "metadata": {
        "colab": {
          "base_uri": "https://localhost:8080/"
        },
        "id": "nj6QeFw07olI",
        "outputId": "b579e2a3-e7b3-4e38-e11a-f973fb244361"
      },
      "execution_count": 39,
      "outputs": [
        {
          "output_type": "stream",
          "name": "stdout",
          "text": [
            "The sum is: 15\n"
          ]
        }
      ]
    },
    {
      "cell_type": "markdown",
      "source": [
        "3. Modify add() to print “even” or “odd” based on the result."
      ],
      "metadata": {
        "id": "zfRwJaMA8AWE"
      }
    },
    {
      "cell_type": "code",
      "source": [
        "def add(a, b):\n",
        "    result = a + b\n",
        "    print(\"The sum is:\", result)\n",
        "\n",
        "    if result % 2 == 0:\n",
        "        print(\"even\")\n",
        "    else:\n",
        "        print(\"odd\")\n",
        "\n",
        "    return result"
      ],
      "metadata": {
        "id": "WisEd-YF8E85"
      },
      "execution_count": 40,
      "outputs": []
    },
    {
      "cell_type": "code",
      "source": [
        "add(10, 5)\n",
        "\n",
        "add(10, 4)\n"
      ],
      "metadata": {
        "colab": {
          "base_uri": "https://localhost:8080/"
        },
        "id": "DLhJNdfr8N_1",
        "outputId": "ffdd6a96-6c58-4af6-a787-4bfcd090556d"
      },
      "execution_count": 42,
      "outputs": [
        {
          "output_type": "stream",
          "name": "stdout",
          "text": [
            "The sum is: 15\n",
            "odd\n",
            "The sum is: 14\n",
            "even\n"
          ]
        },
        {
          "output_type": "execute_result",
          "data": {
            "text/plain": [
              "14"
            ]
          },
          "metadata": {},
          "execution_count": 42
        }
      ]
    },
    {
      "cell_type": "markdown",
      "source": [
        "4. Call a function from within another function."
      ],
      "metadata": {
        "id": "i1bMDjn-8Upi"
      }
    },
    {
      "cell_type": "code",
      "source": [
        "# Function 1\n",
        "def greet(name):\n",
        "    return f\"Hello, {name}!\"\n",
        "\n",
        "# Function 2 (calls greet inside)\n",
        "def welcome_user(name):\n",
        "    message = greet(name)  # calling greet()\n",
        "    print(message)\n",
        "    print(\"Welcome to the system.\")\n",
        "\n"
      ],
      "metadata": {
        "id": "zSO3uXhE8r-1"
      },
      "execution_count": 43,
      "outputs": []
    },
    {
      "cell_type": "code",
      "source": [
        "\n",
        "welcome_user(\"Alice\")"
      ],
      "metadata": {
        "colab": {
          "base_uri": "https://localhost:8080/"
        },
        "id": "cqf_wXyi8w30",
        "outputId": "84f1e87a-4ec1-4c38-903b-fa0bff89aeae"
      },
      "execution_count": 44,
      "outputs": [
        {
          "output_type": "stream",
          "name": "stdout",
          "text": [
            "Hello, Alice!\n",
            "Welcome to the system.\n"
          ]
        }
      ]
    },
    {
      "cell_type": "markdown",
      "source": [
        "**Challenge**\n",
        "\n",
        "---\n",
        "\n",
        "\n",
        "Write a calculator function:\n",
        "\n",
        "Takes two numbers and an operation (+, -, *, /)\n",
        "\n",
        "Returns the result"
      ],
      "metadata": {
        "id": "B0H9NGVN80pl"
      }
    },
    {
      "cell_type": "code",
      "source": [
        "def calculator(a, b, operation):\n",
        "    if operation == \"+\":\n",
        "        return a + b\n",
        "    elif operation == \"-\":\n",
        "        return a - b\n",
        "    elif operation == \"*\":\n",
        "        return a * b\n",
        "    elif operation == \"/\":\n",
        "        if b != 0:\n",
        "            return a / b\n",
        "        else:\n",
        "            return \"Error: Division by zero\"\n",
        "    else:\n",
        "        return \"Error: Invalid operation\""
      ],
      "metadata": {
        "id": "n87Q9hlf9E8A"
      },
      "execution_count": 45,
      "outputs": []
    },
    {
      "cell_type": "code",
      "source": [
        "print(calculator(10, 5, \"+\"))\n",
        "print(calculator(10, 5, \"-\"))\n",
        "print(calculator(10, 5, \"*\"))\n",
        "print(calculator(10, 5, \"/\"))\n",
        "print(calculator(10, 0, \"/\"))\n",
        "print(calculator(10, 5, \"^\"))"
      ],
      "metadata": {
        "colab": {
          "base_uri": "https://localhost:8080/"
        },
        "id": "uS5MuTqr9Gy7",
        "outputId": "26bb7561-a1be-440f-8105-6a0f0ccb0c13"
      },
      "execution_count": 46,
      "outputs": [
        {
          "output_type": "stream",
          "name": "stdout",
          "text": [
            "15\n",
            "5\n",
            "50\n",
            "2.0\n",
            "Error: Division by zero\n",
            "Error: Invalid operation\n"
          ]
        }
      ]
    },
    {
      "cell_type": "markdown",
      "source": [
        "**7. Classes, Objects & Methods**\n",
        "\n",
        "\n",
        "---\n",
        "\n",
        "\n",
        "Exercises:\n",
        "\n",
        "\n",
        "---\n",
        "\n",
        "\n",
        "**1. Class and Object Basics**\n",
        "\n",
        "Define a class named Student with the following attributes:\n",
        "\n",
        "\n",
        "\n",
        "*   name\n",
        "*   age\n",
        "*   grade\n",
        "\n",
        "Create a method display_info() that prints the student's details.\n",
        "\n",
        "Create three student objects and call the method for each to display their details."
      ],
      "metadata": {
        "id": "QIURroIx9VFB"
      }
    },
    {
      "cell_type": "code",
      "source": [
        "# Defining the Student class\n",
        "class Student:\n",
        "    def __init__(self, name, age, grade):\n",
        "        self.name = name\n",
        "        self.age = age\n",
        "        self.grade = grade\n",
        "\n",
        "    def display_info(self):\n",
        "        print(f\"Name: {self.name}, Age: {self.age}, Grade: {self.grade}\")"
      ],
      "metadata": {
        "id": "clWez4iO_kOr"
      },
      "execution_count": 47,
      "outputs": []
    },
    {
      "cell_type": "code",
      "source": [
        "# Creating 3 student objects\n",
        "student1 = Student(\"Kioko\", 20, \"A\")\n",
        "student2 = Student(\"Kimani\", 19, \"B\")\n",
        "student3 = Student(\"Charlie\", 21, \"A+\")"
      ],
      "metadata": {
        "id": "Y1W-j_jV_lwz"
      },
      "execution_count": 48,
      "outputs": []
    },
    {
      "cell_type": "code",
      "source": [
        "student1.display_info()\n",
        "student2.display_info()\n",
        "student3.display_info()"
      ],
      "metadata": {
        "colab": {
          "base_uri": "https://localhost:8080/"
        },
        "id": "4hNW9vG3_sqx",
        "outputId": "1607588e-837f-4645-bf45-3a7fb35575ea"
      },
      "execution_count": 49,
      "outputs": [
        {
          "output_type": "stream",
          "name": "stdout",
          "text": [
            "Name: Kioko, Age: 20, Grade: A\n",
            "Name: Kimani, Age: 19, Grade: B\n",
            "Name: Charlie, Age: 21, Grade: A+\n"
          ]
        }
      ]
    },
    {
      "cell_type": "markdown",
      "source": [
        "**2. Instance vs Class Methods**\n",
        "\n",
        "\n",
        "---\n",
        "\n",
        "\n",
        "Define a class named BankAccount with:\n",
        "\n",
        "\n",
        "*   account_number\n",
        "*   balance\n",
        "\n",
        "Add methods:\n",
        "\n",
        "*   deposit(amount)\n",
        "*   withdraw(amount)\n",
        "*   display_balance()\n",
        "\n",
        "Add a class variable to store the bank name and a class method to display the bank name.\n",
        "\n",
        "Create two account objects and perform deposits and withdrawals."
      ],
      "metadata": {
        "id": "uBfrIxar_5VL"
      }
    },
    {
      "cell_type": "code",
      "source": [
        "class BankAccount:\n",
        "    # Class variable\n",
        "    bank_name = \"LuxDev Bank\"\n",
        "\n",
        "    def __init__(self, account_number, balance=0):\n",
        "        self.account_number = account_number\n",
        "        self.balance = balance\n",
        "\n",
        "    # Deposit method\n",
        "    def deposit(self, amount):\n",
        "        if amount > 0:\n",
        "            self.balance += amount\n",
        "            print(f\"Deposited {amount}. New balance: {self.balance}\")\n",
        "        else:\n",
        "            print(\"Deposit amount must be positive.\")\n",
        "\n",
        "    # Withdraw method\n",
        "    def withdraw(self, amount):\n",
        "        if amount > self.balance:\n",
        "            print(\"Insufficient funds.\")\n",
        "        elif amount <= 0:\n",
        "            print(\"Withdrawal amount must be positive.\")\n",
        "        else:\n",
        "            self.balance -= amount\n",
        "            print(f\"Withdrew {amount}. New balance: {self.balance}\")\n",
        "\n",
        "    # Display balance method\n",
        "    def display_balance(self):\n",
        "        print(f\"Account {self.account_number} balance: {self.balance}\")\n",
        "\n",
        "    # Class method to display bank name\n",
        "    @classmethod\n",
        "    def display_bank_name(cls):\n",
        "        print(f\"Bank Name: {cls.bank_name}\")\n",
        "\n",
        "\n",
        "\n"
      ],
      "metadata": {
        "id": "hTG4FI-mB76g"
      },
      "execution_count": 50,
      "outputs": []
    },
    {
      "cell_type": "code",
      "source": [
        "\n",
        "# Display the bank name\n",
        "BankAccount.display_bank_name()\n",
        "\n",
        "# Create two account objects\n",
        "acc1 = BankAccount(\"001\", 500)\n",
        "acc2 = BankAccount(\"002\", 1000)\n",
        "\n",
        "# Perform transactions\n",
        "acc1.deposit(200)\n",
        "acc1.withdraw(100)\n",
        "acc1.display_balance()\n",
        "\n",
        "acc2.deposit(500)\n",
        "acc2.withdraw(2000)\n",
        "acc2.display_balance()"
      ],
      "metadata": {
        "colab": {
          "base_uri": "https://localhost:8080/"
        },
        "id": "qTyHur6hCC91",
        "outputId": "7c02535d-e401-4e60-8d6c-65c32de99fce"
      },
      "execution_count": 51,
      "outputs": [
        {
          "output_type": "stream",
          "name": "stdout",
          "text": [
            "Bank Name: LuxDev Bank\n",
            "Deposited 200. New balance: 700\n",
            "Withdrew 100. New balance: 600\n",
            "Account 001 balance: 600\n",
            "Deposited 500. New balance: 1500\n",
            "Insufficient funds.\n",
            "Account 002 balance: 1500\n"
          ]
        }
      ]
    },
    {
      "cell_type": "markdown",
      "source": [
        "**3. Encapsulation**\n",
        "\n",
        "\n",
        "---\n",
        "\n",
        "\n",
        "Create a class Car with:\n",
        "\n",
        "Private attributes: __make, __model, __year, __speed\n",
        "\n",
        "Methods to:\n",
        "\n",
        "    Get and set make, model, and year.\n",
        "\n",
        "    Increase and decrease speed.\n",
        "\n",
        "    Display all car details.\n",
        "\n",
        "Create a Car object, update its attributes, and demonstrate encapsulation."
      ],
      "metadata": {
        "id": "-soS9C1cChqO"
      }
    },
    {
      "cell_type": "code",
      "source": [
        "class Car:\n",
        "    def __init__(self, make, model, year):\n",
        "        # private attributes\n",
        "        self.__make = make\n",
        "        self.__model = model\n",
        "        self.__year = year\n",
        "        self.__speed = 0\n",
        "\n",
        "    # Getters\n",
        "    def get_make(self):\n",
        "        return self.__make\n",
        "\n",
        "    def get_model(self):\n",
        "        return self.__model\n",
        "\n",
        "    def get_year(self):\n",
        "        return self.__year\n",
        "\n",
        "    def get_speed(self):\n",
        "        return self.__speed\n",
        "\n",
        "    # Setters\n",
        "    def set_make(self, make):\n",
        "        self.__make = make\n",
        "\n",
        "    def set_model(self, model):\n",
        "        self.__model = model\n",
        "\n",
        "    def set_year(self, year):\n",
        "        self.__year = year\n",
        "\n",
        "    # Speed control\n",
        "    def increase_speed(self, amount):\n",
        "        if amount > 0:\n",
        "            self.__speed += amount\n",
        "            print(f\"Speed increased by {amount}. Current speed: {self.__speed}\")\n",
        "        else:\n",
        "            print(\"Increase amount must be positive.\")\n",
        "\n",
        "    def decrease_speed(self, amount):\n",
        "        if amount > 0:\n",
        "            if self.__speed - amount >= 0:\n",
        "                self.__speed -= amount\n",
        "                print(f\"Speed decreased by {amount}. Current speed: {self.__speed}\")\n",
        "            else:\n",
        "                self.__speed = 0\n",
        "                print(\"Car stopped. Current speed: 0\")\n",
        "        else:\n",
        "            print(\"Decrease amount must be positive.\")\n",
        "\n",
        "    # Display all details\n",
        "    def display_details(self):\n",
        "        print(f\"Car Details: {self.__year} {self.__make} {self.__model}, Speed: {self.__speed}\")\n",
        "\n",
        "\n",
        "\n"
      ],
      "metadata": {
        "id": "Man8TEDxDS-4"
      },
      "execution_count": 52,
      "outputs": []
    },
    {
      "cell_type": "code",
      "source": [
        "# --- Example Usage ---\n",
        "car1 = Car(\"Toyota\", \"Corolla\", 2020)\n",
        "\n",
        "# Display initial details\n",
        "car1.display_details()\n",
        "\n",
        "# Update attributes using setters\n",
        "car1.set_make(\"Honda\")\n",
        "car1.set_model(\"Civic\")\n",
        "car1.set_year(2022)\n",
        "\n",
        "# Change speed\n",
        "car1.increase_speed(50)\n",
        "car1.decrease_speed(20)\n",
        "\n",
        "# Display updated details\n",
        "car1.display_details()\n",
        "\n",
        "# Access via getters (not directly!)\n",
        "print(\"Make:\", car1.get_make())\n",
        "print(\"Model:\", car1.get_model())\n",
        "print(\"Year:\", car1.get_year())"
      ],
      "metadata": {
        "colab": {
          "base_uri": "https://localhost:8080/"
        },
        "id": "b_L4YPWWDZX8",
        "outputId": "32ab1cc5-664c-451d-c675-34a8c3df182e"
      },
      "execution_count": 53,
      "outputs": [
        {
          "output_type": "stream",
          "name": "stdout",
          "text": [
            "Car Details: 2020 Toyota Corolla, Speed: 0\n",
            "Speed increased by 50. Current speed: 50\n",
            "Speed decreased by 20. Current speed: 30\n",
            "Car Details: 2022 Honda Civic, Speed: 30\n",
            "Make: Honda\n",
            "Model: Civic\n",
            "Year: 2022\n"
          ]
        }
      ]
    },
    {
      "cell_type": "markdown",
      "source": [
        "**4. Methods with Objects as Arguments**\n",
        "\n",
        "\n",
        "---\n",
        "\n",
        "\n",
        "Create a class Circle with:\n",
        "\n",
        "Attributes: radius\n",
        "\n",
        "Method area() and circumference().\n",
        "\n",
        "Create a class Cylinder that takes a Circle object and height.\n",
        "\n",
        "Method volume() to compute the volume using the circle's area.\n",
        "\n",
        "Demonstrate by creating a Circle object and passing it to the Cylinder object."
      ],
      "metadata": {
        "id": "lvFH3hXMq8Xo"
      }
    },
    {
      "cell_type": "code",
      "source": [
        "PI = 3.142\n",
        "\n",
        "class Circle:\n",
        "    def __init__(self, radius):\n",
        "        self.radius = radius\n",
        "\n",
        "    def area(self):\n",
        "        return PI * (self.radius ** 2)\n",
        "\n",
        "    def circumference(self):\n",
        "        return 2 * PI * self.radius\n",
        "\n",
        "\n",
        "class Cylinder:\n",
        "    def __init__(self, circle, height):\n",
        " # expects a Circle object\n",
        "        self.circle = circle\n",
        "        self.height = height\n",
        "\n",
        "    def volume(self):\n",
        "        return self.circle.area() * self.height"
      ],
      "metadata": {
        "id": "pwMDz2uCro7Y"
      },
      "execution_count": 1,
      "outputs": []
    },
    {
      "cell_type": "code",
      "source": [
        "circle1 = Circle(5)\n",
        "print(\"Circle area:\", circle1.area())\n",
        "print(\"Circle circumference:\", circle1.circumference())\n",
        "\n",
        "cylinder1 = Cylinder(circle1, 10)\n",
        "print(\"Cylinder volume:\", cylinder1.volume())"
      ],
      "metadata": {
        "colab": {
          "base_uri": "https://localhost:8080/"
        },
        "id": "g-LcSwqrr5jh",
        "outputId": "f580b4c3-a404-49b9-8685-76074cf6d367"
      },
      "execution_count": 2,
      "outputs": [
        {
          "output_type": "stream",
          "name": "stdout",
          "text": [
            "Circle area: 78.55\n",
            "Circle circumference: 31.419999999999998\n",
            "Cylinder volume: 785.5\n"
          ]
        }
      ]
    },
    {
      "cell_type": "markdown",
      "source": [
        "**5.Object Relationships (Aggregation)**\n",
        "\n",
        "---\n",
        "\n",
        "\n",
        "\n",
        "Create a class Author with:\n",
        "\n",
        "Attributes: name, nationality\n",
        "\n",
        "Method to display author info.\n",
        "\n",
        "Create a class Book with:\n",
        "\n",
        "Attributes: title, price, and author (Author object).\n",
        "\n",
        "Method to display book details including author info.\n",
        "\n",
        "Create one author and multiple books related to that author."
      ],
      "metadata": {
        "id": "asfeDpOdsKSA"
      }
    },
    {
      "cell_type": "code",
      "source": [
        "# Author class\n",
        "class Author:\n",
        "    def __init__(self, name, nationality):\n",
        "        self.name = name\n",
        "        self.nationality = nationality\n",
        "\n",
        "    def display_info(self):\n",
        "        print(f\"Author: {self.name}, Nationality: {self.nationality}\")\n",
        "\n",
        "\n",
        "# Book class (has an Author object)\n",
        "class Book:\n",
        "    def __init__(self, title, price, author):\n",
        "        self.title = title\n",
        "        self.price = price\n",
        "        # expects an Author object\n",
        "        self.author = author\n",
        "\n",
        "    def display_details(self):\n",
        "        print(f\"Book: {self.title}, Price: ${self.price}\")\n",
        "        # include author details\n",
        "        self.author.display_info()\n"
      ],
      "metadata": {
        "id": "QP4hw99dsnPq"
      },
      "execution_count": 4,
      "outputs": []
    },
    {
      "cell_type": "code",
      "source": [
        "# Create one Author\n",
        "author1 = Author(\"Chinua Achebe\", \"Nigerian\")\n",
        "\n",
        "# Create multiple books related to that author\n",
        "book1 = Book(\"Things Fall Apart\", 12.99, author1)\n",
        "book2 = Book(\"No Longer at Ease\", 10.99, author1)\n",
        "book3 = Book(\"Arrow of God\", 11.49, author1)\n",
        "\n",
        "# Display details of each book\n",
        "book1.display_details()\n",
        "print(\"-\" * 40)\n",
        "book2.display_details()\n",
        "print(\"-\" * 40)\n",
        "book3.display_details()"
      ],
      "metadata": {
        "colab": {
          "base_uri": "https://localhost:8080/"
        },
        "id": "9nrybjmaszZa",
        "outputId": "f7898985-f9fc-4ac5-d4bf-49ad38925271"
      },
      "execution_count": 5,
      "outputs": [
        {
          "output_type": "stream",
          "name": "stdout",
          "text": [
            "Book: Things Fall Apart, Price: $12.99\n",
            "Author: Chinua Achebe, Nationality: Nigerian\n",
            "----------------------------------------\n",
            "Book: No Longer at Ease, Price: $10.99\n",
            "Author: Chinua Achebe, Nationality: Nigerian\n",
            "----------------------------------------\n",
            "Book: Arrow of God, Price: $11.49\n",
            "Author: Chinua Achebe, Nationality: Nigerian\n"
          ]
        }
      ]
    },
    {
      "cell_type": "markdown",
      "source": [
        "**Challenge**\n",
        "\n",
        "---\n",
        "\n",
        "\n",
        "Create a class Rectangle with:\n",
        "\n",
        "Attributes: length and width\n",
        "\n",
        "Method area() and perimeter().\n",
        "\n",
        "Write a method that takes another rectangle object as an argument and compares their areas.\n",
        "\n",
        "Create multiple rectangles and compare them.\n"
      ],
      "metadata": {
        "id": "6MiKj27PtQPr"
      }
    },
    {
      "cell_type": "code",
      "source": [
        "class Rectangle :\n",
        "  def __init__(self,length, width):\n",
        "    self.length = length\n",
        "    self.width = width\n",
        "\n",
        "  def area(self):\n",
        "    return self.length * self.width\n",
        "\n",
        "  def perimeter(self):\n",
        "    return 2 * (self.length + self.width)\n",
        "\n",
        "  def compare_area(self, other_rectangle):\n",
        "    if self.area() > other_rectangle.area():\n",
        "      return f\"{self.area()} is greater than {other_rectangle.area()}\""
      ],
      "metadata": {
        "id": "QZ2vVNctte6L"
      },
      "execution_count": 6,
      "outputs": []
    },
    {
      "cell_type": "code",
      "source": [
        "rect1 = Rectangle(10, 5)\n",
        "rect2 = Rectangle(8, 6)\n",
        "rect3 = Rectangle(4, 12)\n",
        "\n",
        "print(\"Rectangle 1 area:\", rect1.area(), \"Perimeter:\", rect1.perimeter())\n",
        "print(\"Rectangle 2 area:\", rect2.area(), \"Perimeter:\", rect2.perimeter())\n",
        "print(\"Rectangle 3 area:\", rect3.area(), \"Perimeter:\", rect3.perimeter())\n",
        "\n",
        "# Compare rectangles\n",
        "rect1.compare_area(rect2)\n",
        "rect2.compare_area(rect3)\n",
        "rect1.compare_area(rect3)"
      ],
      "metadata": {
        "colab": {
          "base_uri": "https://localhost:8080/",
          "height": 89
        },
        "id": "XEaqX6p5t841",
        "outputId": "5a512236-b33d-4b7f-f73f-bc4c2f414895"
      },
      "execution_count": 7,
      "outputs": [
        {
          "output_type": "stream",
          "name": "stdout",
          "text": [
            "Rectangle 1 area: 50 Perimeter: 30\n",
            "Rectangle 2 area: 48 Perimeter: 28\n",
            "Rectangle 3 area: 48 Perimeter: 32\n"
          ]
        },
        {
          "output_type": "execute_result",
          "data": {
            "text/plain": [
              "'50 is greater than 48'"
            ],
            "application/vnd.google.colaboratory.intrinsic+json": {
              "type": "string"
            }
          },
          "metadata": {},
          "execution_count": 7
        }
      ]
    }
  ]
}